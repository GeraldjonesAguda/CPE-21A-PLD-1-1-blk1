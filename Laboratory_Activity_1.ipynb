{
  "nbformat": 4,
  "nbformat_minor": 0,
  "metadata": {
    "colab": {
      "provenance": [],
      "authorship_tag": "ABX9TyOGEk33jbCSu3VhyQ3YHkfr",
      "include_colab_link": true
    },
    "kernelspec": {
      "name": "python3",
      "display_name": "Python 3"
    },
    "language_info": {
      "name": "python"
    }
  },
  "cells": [
    {
      "cell_type": "markdown",
      "metadata": {
        "id": "view-in-github",
        "colab_type": "text"
      },
      "source": [
        "<a href=\"https://colab.research.google.com/github/GeraldjonesAguda/CPE-21A-PLD-1-1-blk1/blob/main/Laboratory_Activity_1.ipynb\" target=\"_parent\"><img src=\"https://colab.research.google.com/assets/colab-badge.svg\" alt=\"Open In Colab\"/></a>"
      ]
    },
    {
      "cell_type": "markdown",
      "source": [
        "PROBLEM 1"
      ],
      "metadata": {
        "id": "UVh8in1pRs5H"
      }
    },
    {
      "cell_type": "code",
      "execution_count": 20,
      "metadata": {
        "colab": {
          "base_uri": "https://localhost:8080/"
        },
        "id": "BHD1gyt6J3mm",
        "outputId": "64f4d207-08de-4d47-91d3-0b7556171a0c"
      },
      "outputs": [
        {
          "output_type": "stream",
          "name": "stdout",
          "text": [
            "sum 210\n",
            "average 10.5\n"
          ]
        }
      ],
      "source": [
        "n=20\n",
        "totalnumbers=n\n",
        "sum=0\n",
        "average=0\n",
        "\n",
        "while n>=0:\n",
        " sum+=n\n",
        " n-=1\n",
        "\n",
        "print(\"sum\", sum)\n",
        "\n",
        "average=sum/totalnumbers\n",
        "\n",
        "print(\"average\", average)\n",
        "\n",
        "\n",
        "\n",
        "\n",
        " \n"
      ]
    },
    {
      "cell_type": "markdown",
      "source": [
        "PROBLEM 2"
      ],
      "metadata": {
        "id": "QsJFfhgWRoFt"
      }
    },
    {
      "cell_type": "code",
      "source": [
        "#Class\n",
        "class Student:\n",
        "  def __init__(Myself, Name, Student_No, Age, School, Course):\n",
        "   Myself.Name = Name\n",
        "   Myself.Student_No = Student_No\n",
        "   Myself.Age = Age\n",
        "   Myself.School = School\n",
        "   Myself.Course = Course\n",
        "\n",
        "Myself = Student(\"Gerald Aguda\", 20220399, 19, \"Cavite State University\", \"Bachelor of Science in Computer Engineering\")\n",
        "print(\"My Name is\",Myself.Name)\n",
        "print(\"My Student Number is\",Myself.Student_No)\n",
        "print(\"My Age is\",Myself.Age)\n",
        "print(\"My School is\",Myself.School)\n",
        "print(\"My Course is\",Myself.Course)"
      ],
      "metadata": {
        "colab": {
          "base_uri": "https://localhost:8080/"
        },
        "id": "bjgV-jo1RnjH",
        "outputId": "bae9a893-8a98-4a50-d27a-3fd9ebc24f98"
      },
      "execution_count": 15,
      "outputs": [
        {
          "output_type": "stream",
          "name": "stdout",
          "text": [
            "My Name is Gerald Aguda\n",
            "My Student Number is 20220399\n",
            "My Age is 19\n",
            "My School is Cavite State University\n",
            "My Course is Bachelor of Science in Computer Engineering\n"
          ]
        }
      ]
    },
    {
      "cell_type": "markdown",
      "source": [],
      "metadata": {
        "id": "wki4h-F4Rqxy"
      }
    }
  ]
}