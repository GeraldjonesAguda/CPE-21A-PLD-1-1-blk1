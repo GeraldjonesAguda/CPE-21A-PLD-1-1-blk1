{
  "nbformat": 4,
  "nbformat_minor": 0,
  "metadata": {
    "colab": {
      "provenance": [],
      "authorship_tag": "ABX9TyO0r1K8dG4bQuY9HNU4i7+N",
      "include_colab_link": true
    },
    "kernelspec": {
      "name": "python3",
      "display_name": "Python 3"
    },
    "language_info": {
      "name": "python"
    }
  },
  "cells": [
    {
      "cell_type": "markdown",
      "metadata": {
        "id": "view-in-github",
        "colab_type": "text"
      },
      "source": [
        "<a href=\"https://colab.research.google.com/github/GeraldjonesAguda/CPE-21A-PLD-1-1-blk1/blob/main/List_and_set_dictionary_Aguda.ipynb\" target=\"_parent\"><img src=\"https://colab.research.google.com/assets/colab-badge.svg\" alt=\"Open In Colab\"/></a>"
      ]
    },
    {
      "cell_type": "markdown",
      "source": [
        "##LIST"
      ],
      "metadata": {
        "id": "xlKF_aTBfpeV"
      }
    },
    {
      "cell_type": "code",
      "execution_count": 16,
      "metadata": {
        "colab": {
          "base_uri": "https://localhost:8080/"
        },
        "id": "Ou18hXtSU1cZ",
        "outputId": "78a55c95-c2af-4285-c49c-ec0e28614dd6"
      },
      "outputs": [
        {
          "output_type": "stream",
          "name": "stdout",
          "text": [
            "22\n",
            "greetings\n",
            "4.002\n",
            "normal\n",
            "normal\n"
          ]
        }
      ],
      "source": [
        "xp = 4.002\n",
        "varList = [22, 66, 'G', 'A', 'greetings', xp]\n",
        "print(varlist[0])\n",
        "print(varlist[4])\n",
        "print(varlist[5])\n",
        "\n",
        "varlist.append('normal')\n",
        "print(varlist[6])\n",
        "\n",
        "len(varlist)\n",
        "\n",
        "varlist.remove(xp)\n",
        "print(varlist[5])\n"
      ]
    },
    {
      "cell_type": "markdown",
      "source": [
        "##DICTIONARIES\n"
      ],
      "metadata": {
        "id": "OxQbGXWIj7vU"
      }
    },
    {
      "cell_type": "code",
      "source": [
        "var = \"hello world!!!\"\n",
        "varDict = {'first' : 143, 7 : 'higher' , '3' : var, 4 : ['spaceA','spaceB']}\n",
        "print(varDict['first'])\n",
        "print(varDict[7])\n",
        "print(varDict['3'])\n",
        "print(varDict[4])\n",
        "print(varDict[4][1])\n",
        "len(varDict)\n"
      ],
      "metadata": {
        "colab": {
          "base_uri": "https://localhost:8080/"
        },
        "id": "Nk1jaaH7j7Wz",
        "outputId": "35525525-0dbc-47cd-a9b0-bd22325c315c"
      },
      "execution_count": 30,
      "outputs": [
        {
          "output_type": "stream",
          "name": "stdout",
          "text": [
            "143\n",
            "higher\n",
            "hello world!!!\n",
            "['spaceA', 'spaceB']\n",
            "spaceB\n"
          ]
        },
        {
          "output_type": "execute_result",
          "data": {
            "text/plain": [
              "4"
            ]
          },
          "metadata": {},
          "execution_count": 30
        }
      ]
    },
    {
      "cell_type": "markdown",
      "source": [
        "##LIST GENERATORS AND COMPREHENSION"
      ],
      "metadata": {
        "id": "w80IAOLBoJQw"
      }
    },
    {
      "cell_type": "code",
      "source": [
        "def gen_num_up_to(n):\n",
        "  num = 0\n",
        "  while num < n:\n",
        "    yield num\n",
        "    num += 1\n",
        "varList = gen_num_up_to(7)\n",
        "print([var for var in varList])\n",
        "\n",
        "def gen_num_up_to(n):\n",
        "  num = 0\n",
        "  while num < n:\n",
        "    yield num\n",
        "    num += 2\n",
        "varList = gen_num_up_to(7)\n",
        "print([var for var in varList])\n"
      ],
      "metadata": {
        "colab": {
          "base_uri": "https://localhost:8080/"
        },
        "id": "OrQUGEaKoQy3",
        "outputId": "43bfc2d0-c8dc-4200-90d9-889538c6198f"
      },
      "execution_count": 33,
      "outputs": [
        {
          "output_type": "stream",
          "name": "stdout",
          "text": [
            "[0, 1, 2, 3, 4, 5, 6]\n",
            "[0, 2, 4, 6]\n"
          ]
        }
      ]
    },
    {
      "cell_type": "markdown",
      "source": [
        "##SLICING"
      ],
      "metadata": {
        "id": "K4B1fMsap8GG"
      }
    },
    {
      "cell_type": "code",
      "source": [
        "varList = [1, 2, 3, 4, 5, 6, 7, 8, 9, 10, 11, 12, 13]\n",
        "print(varList[:6])\n",
        "print(varList[:-3])\n",
        "print(varList[-3:])\n",
        "print(varList[3:-3])\n",
        "print(varList[3:8:2])"
      ],
      "metadata": {
        "colab": {
          "base_uri": "https://localhost:8080/"
        },
        "id": "ATVK1UB2qE2l",
        "outputId": "32fe129e-72f1-40e7-fd3b-812e71ce8093"
      },
      "execution_count": 35,
      "outputs": [
        {
          "output_type": "stream",
          "name": "stdout",
          "text": [
            "[1, 2, 3, 4, 5, 6]\n",
            "[1, 2, 3, 4, 5, 6, 7, 8, 9, 10]\n",
            "[11, 12, 13]\n",
            "[4, 5, 6, 7, 8, 9, 10]\n",
            "[4, 6, 8]\n"
          ]
        }
      ]
    }
  ]
}