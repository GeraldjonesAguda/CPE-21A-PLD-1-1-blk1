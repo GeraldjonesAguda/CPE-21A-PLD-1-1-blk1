{
  "nbformat": 4,
  "nbformat_minor": 0,
  "metadata": {
    "colab": {
      "provenance": [],
      "authorship_tag": "ABX9TyM5Yl29eX47r8s1rNbFBJ3W",
      "include_colab_link": true
    },
    "kernelspec": {
      "name": "python3",
      "display_name": "Python 3"
    },
    "language_info": {
      "name": "python"
    }
  },
  "cells": [
    {
      "cell_type": "markdown",
      "metadata": {
        "id": "view-in-github",
        "colab_type": "text"
      },
      "source": [
        "<a href=\"https://colab.research.google.com/github/GeraldjonesAguda/CPE-21A-PLD-1-1-blk1/blob/main/Exercises_Aguda.ipynb\" target=\"_parent\"><img src=\"https://colab.research.google.com/assets/colab-badge.svg\" alt=\"Open In Colab\"/></a>"
      ]
    },
    {
      "cell_type": "code",
      "execution_count": 1,
      "metadata": {
        "colab": {
          "base_uri": "https://localhost:8080/"
        },
        "id": "A__u65XSKNpM",
        "outputId": "46d8acb8-ee54-496a-ed39-fae7a4139104"
      },
      "outputs": [
        {
          "output_type": "execute_result",
          "data": {
            "text/plain": [
              "2"
            ]
          },
          "metadata": {},
          "execution_count": 1
        }
      ],
      "source": [
        "min(2, 3, 4)"
      ]
    },
    {
      "cell_type": "code",
      "source": [
        "max(2,-3, 4, 7, -5)"
      ],
      "metadata": {
        "colab": {
          "base_uri": "https://localhost:8080/"
        },
        "id": "HKSsODnbLG5o",
        "outputId": "f640c346-3a35-444d-ae0c-35a40dd4d17e"
      },
      "execution_count": 2,
      "outputs": [
        {
          "output_type": "execute_result",
          "data": {
            "text/plain": [
              "7"
            ]
          },
          "metadata": {},
          "execution_count": 2
        }
      ]
    },
    {
      "cell_type": "code",
      "source": [
        "max(2, -3, min(4, 7,)-5)"
      ],
      "metadata": {
        "colab": {
          "base_uri": "https://localhost:8080/"
        },
        "id": "T5-N4DtqLAWc",
        "outputId": "d6962817-ab4d-4ea8-fb15-8168930f393e"
      },
      "execution_count": 3,
      "outputs": [
        {
          "output_type": "execute_result",
          "data": {
            "text/plain": [
              "2"
            ]
          },
          "metadata": {},
          "execution_count": 3
        }
      ]
    },
    {
      "cell_type": "code",
      "source": [
        "#defining own function\n",
        "\n",
        "def convert_to_celcius(farenheit):\n",
        " celcius =(farenheit -32)*5/9\n",
        " return celcius\n",
        "\n",
        "farenheit = float(input(\"enter a numbe rin farenheit\"))\n",
        "\n",
        "f=convert_to_celcius(farenheit)\n",
        "print(round(f))\n",
        "\n",
        "\n",
        "\n"
      ],
      "metadata": {
        "colab": {
          "base_uri": "https://localhost:8080/"
        },
        "id": "a6CdQaOVLW1N",
        "outputId": "28905e8b-3a1c-442e-e17e-4b8a1347fb51"
      },
      "execution_count": 9,
      "outputs": [
        {
          "output_type": "stream",
          "name": "stdout",
          "text": [
            "enter a numbe rin farenheit86\n",
            "30\n"
          ]
        }
      ]
    },
    {
      "cell_type": "markdown",
      "source": [
        "Exercices"
      ],
      "metadata": {
        "id": "X-BigOQPQiyk"
      }
    },
    {
      "cell_type": "markdown",
      "source": [],
      "metadata": {
        "id": "T5ShuKFeK-15"
      }
    }
  ]
}