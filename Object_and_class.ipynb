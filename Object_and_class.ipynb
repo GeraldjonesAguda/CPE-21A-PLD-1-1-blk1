{
  "nbformat": 4,
  "nbformat_minor": 0,
  "metadata": {
    "colab": {
      "provenance": [],
      "authorship_tag": "ABX9TyMkUn3pVcsksZH66XhL0vPt",
      "include_colab_link": true
    },
    "kernelspec": {
      "name": "python3",
      "display_name": "Python 3"
    },
    "language_info": {
      "name": "python"
    }
  },
  "cells": [
    {
      "cell_type": "markdown",
      "metadata": {
        "id": "view-in-github",
        "colab_type": "text"
      },
      "source": [
        "<a href=\"https://colab.research.google.com/github/GeraldjonesAguda/CPE-21A-PLD-1-1-blk1/blob/main/Object_and_class.ipynb\" target=\"_parent\"><img src=\"https://colab.research.google.com/assets/colab-badge.svg\" alt=\"Open In Colab\"/></a>"
      ]
    },
    {
      "cell_type": "code",
      "execution_count": 3,
      "metadata": {
        "colab": {
          "base_uri": "https://localhost:8080/"
        },
        "id": "oGXJ-9nRwkfr",
        "outputId": "fb36c556-9cbe-4c65-f703-3889a8ef7330"
      },
      "outputs": [
        {
          "output_type": "stream",
          "name": "stdout",
          "text": [
            "My name is Cassie\n",
            "My age is 18\n",
            "Fabie\n",
            "18\n",
            "The area of the shape is 200\n",
            "The perimeter of the shape is 75\n",
            "The area of the square is 100\n",
            "The perimeter of the square is 50\n"
          ]
        }
      ],
      "source": [
        "#Creating Class\n",
        "\n",
        "class Person:                               #Creating class named as Person\n",
        "  def __init__(self,name,age):\n",
        "    self.name = name\n",
        "    self.age = age\n",
        "\n",
        "person = Person(\"Cassie\",18)                #Creating object name person\n",
        "print(\"My name is\",person.name)\n",
        "print(\"My age is\",person.age)\n",
        "\n",
        "class Student(Person):\n",
        "  pass\n",
        "\n",
        "person2 = Student(\"Fabie\",18)\n",
        "print(person2.name)\n",
        "print(person2.age)\n",
        "\n",
        "class Shape:                                            #Creating class named as Shape\n",
        "  def __init__(shape, area, perimeter):\n",
        "    shape.area = area\n",
        "    shape.perimeter = perimeter\n",
        "\n",
        "shape = Shape(200,75)                                   #Creating object name Shape\n",
        "print(\"The area of the shape is\", shape.area)\n",
        "print(\"The perimeter of the shape is\", shape.perimeter)\n",
        "\n",
        "class Square(Shape):\n",
        "  pass\n",
        "\n",
        "shape1 = Square (100,50)\n",
        "print(\"The area of the square is\", shape1.area)\n",
        "print(\"The perimeter of the square is\", shape1.perimeter)"
      ]
    }
  ]
}