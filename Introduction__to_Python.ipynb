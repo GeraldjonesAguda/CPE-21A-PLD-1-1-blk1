{
  "nbformat": 4,
  "nbformat_minor": 0,
  "metadata": {
    "colab": {
      "provenance": [],
      "authorship_tag": "ABX9TyPcoROtG0COvdw1f6rylVU+",
      "include_colab_link": true
    },
    "kernelspec": {
      "name": "python3",
      "display_name": "Python 3"
    },
    "language_info": {
      "name": "python"
    }
  },
  "cells": [
    {
      "cell_type": "markdown",
      "metadata": {
        "id": "view-in-github",
        "colab_type": "text"
      },
      "source": [
        "<a href=\"https://colab.research.google.com/github/GeraldjonesAguda/CPE-21A-PLD-1-1-blk1/blob/main/Introduction__to_Python.ipynb\" target=\"_parent\"><img src=\"https://colab.research.google.com/assets/colab-badge.svg\" alt=\"Open In Colab\"/></a>"
      ]
    },
    {
      "cell_type": "markdown",
      "source": [
        "Identation"
      ],
      "metadata": {
        "id": "21cj-D3Iw1qb"
      }
    },
    {
      "cell_type": "code",
      "source": [
        "if 10>2:\n",
        "  print(\"10 is greater than 2\")"
      ],
      "metadata": {
        "colab": {
          "base_uri": "https://localhost:8080/"
        },
        "id": "V2w8RAbrw4ut",
        "outputId": "795bc8a6-23fb-4b6b-94e0-92911edcd8fc"
      },
      "execution_count": 4,
      "outputs": [
        {
          "output_type": "stream",
          "name": "stdout",
          "text": [
            "10 is greater than 2\n"
          ]
        }
      ]
    },
    {
      "cell_type": "markdown",
      "source": [
        "Variable declaration"
      ],
      "metadata": {
        "id": "qAFTZb3XxSOk"
      }
    },
    {
      "cell_type": "code",
      "source": [
        "#variable with single value\n",
        "x=10\n",
        "y=2\n",
        "if x >y:\n",
        "  print(\"x is greater than y\")\n",
        "else:\n",
        "  print(\"y is greater than x\")\n",
        "\n",
        "\n",
        "#variable with multiple variable\n",
        "\n",
        "a,b,c = 2,8,9\n",
        "print(\"the value of is:\",a)\n",
        "print(\"the value of is:\",b)\n",
        "print(\"the value of is:\",c)\n",
        "\n",
        "\n",
        "#multiple varible with single value\n",
        "\n",
        "\n",
        "d = s = v =\"LOVE\"\n",
        "print(d)\n",
        "print(s)\n",
        "print(v)\n",
        "\n",
        "\n"
      ],
      "metadata": {
        "colab": {
          "base_uri": "https://localhost:8080/"
        },
        "id": "2L_60NOUxctn",
        "outputId": "a3926a5a-18b7-40ae-8cd0-b9857c83c15a"
      },
      "execution_count": 18,
      "outputs": [
        {
          "output_type": "stream",
          "name": "stdout",
          "text": [
            "x is greater than y\n",
            "the value of is: 2\n",
            "the value of is: 8\n",
            "the value of is: 9\n",
            "LOVE\n",
            "LOVE\n",
            "LOVE\n"
          ]
        }
      ]
    },
    {
      "cell_type": "markdown",
      "source": [
        "Casting and Type() function"
      ],
      "metadata": {
        "id": "NFqroZCp1a7H"
      }
    },
    {
      "cell_type": "code",
      "source": [
        "a = int(7) #intiger\n",
        "b=float(7) #dedimal/fractional\n",
        "\n",
        "print(a)\n",
        "print(b)\n",
        "\n",
        "print(type(a))\n",
        "print(type(b))"
      ],
      "metadata": {
        "colab": {
          "base_uri": "https://localhost:8080/"
        },
        "id": "4TggnSJN1xCQ",
        "outputId": "f86e788b-801a-49d9-e366-8ff81ff6c90a"
      },
      "execution_count": 12,
      "outputs": [
        {
          "output_type": "stream",
          "name": "stdout",
          "text": [
            "7\n",
            "7.0\n",
            "<class 'int'>\n",
            "<class 'float'>\n"
          ]
        }
      ]
    },
    {
      "cell_type": "markdown",
      "source": [
        "double qoute or single qoute"
      ],
      "metadata": {
        "id": "_T6kLTuw3GIK"
      }
    },
    {
      "cell_type": "code",
      "source": [
        "from os import name\n",
        "name1 = \"Gerald\"\n",
        "name2 = 'Aguda'\n",
        "\n",
        "print(name1)\n",
        "print(name2)"
      ],
      "metadata": {
        "colab": {
          "base_uri": "https://localhost:8080/"
        },
        "id": "g97Ip-sv3UIQ",
        "outputId": "d5876c18-23ea-40c0-8639-99e117841ac0"
      },
      "execution_count": 13,
      "outputs": [
        {
          "output_type": "stream",
          "name": "stdout",
          "text": [
            "Gerald\n",
            "Aguda\n"
          ]
        }
      ]
    },
    {
      "cell_type": "markdown",
      "source": [
        "case sensitive"
      ],
      "metadata": {
        "id": "MUq2aUFp32YC"
      }
    },
    {
      "cell_type": "code",
      "source": [
        "a = \"robert\"\n",
        "print (a)"
      ],
      "metadata": {
        "colab": {
          "base_uri": "https://localhost:8080/"
        },
        "id": "2zu-_Ryf38ii",
        "outputId": "30ef3d38-9545-4ab6-f3aa-ac906107f12c"
      },
      "execution_count": 16,
      "outputs": [
        {
          "output_type": "stream",
          "name": "stdout",
          "text": [
            "robert\n"
          ]
        }
      ]
    },
    {
      "cell_type": "markdown",
      "source": [
        "Output variable"
      ],
      "metadata": {
        "id": "-MyqQXrp6eQG"
      }
    },
    {
      "cell_type": "code",
      "source": [
        "r = 'is typing a message'\n",
        "print(\"Gerald\"+\" \"+r) #append is typing a message\n",
        "\n",
        "print(\"Gerald \"+r) #append is typing a message\n"
      ],
      "metadata": {
        "colab": {
          "base_uri": "https://localhost:8080/"
        },
        "id": "CBOOYB2Z6lcP",
        "outputId": "f40e8c56-35c6-4282-e827-7eb7a8a58e75"
      },
      "execution_count": 26,
      "outputs": [
        {
          "output_type": "stream",
          "name": "stdout",
          "text": [
            "Gerald is typing a message\n",
            "Gerald is typing a message\n"
          ]
        }
      ]
    }
  ]
}