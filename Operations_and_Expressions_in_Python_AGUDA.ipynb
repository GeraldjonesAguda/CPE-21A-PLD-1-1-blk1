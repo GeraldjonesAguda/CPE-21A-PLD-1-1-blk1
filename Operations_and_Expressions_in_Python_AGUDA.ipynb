{
  "nbformat": 4,
  "nbformat_minor": 0,
  "metadata": {
    "colab": {
      "provenance": [],
      "authorship_tag": "ABX9TyNaV7fXPfFWH4vygpiEs6hP",
      "include_colab_link": true
    },
    "kernelspec": {
      "name": "python3",
      "display_name": "Python 3"
    },
    "language_info": {
      "name": "python"
    }
  },
  "cells": [
    {
      "cell_type": "markdown",
      "metadata": {
        "id": "view-in-github",
        "colab_type": "text"
      },
      "source": [
        "<a href=\"https://colab.research.google.com/github/GeraldjonesAguda/CPE-21A-PLD-1-1-blk1/blob/main/Operations_and_Expressions_in_Python_AGUDA.ipynb\" target=\"_parent\"><img src=\"https://colab.research.google.com/assets/colab-badge.svg\" alt=\"Open In Colab\"/></a>"
      ]
    },
    {
      "cell_type": "markdown",
      "source": [
        "##boolean"
      ],
      "metadata": {
        "id": "n-Jne75NVjG7"
      }
    },
    {
      "cell_type": "code",
      "execution_count": 2,
      "metadata": {
        "colab": {
          "base_uri": "https://localhost:8080/"
        },
        "id": "8yNSglAmVQ9p",
        "outputId": "2b225fbf-c38b-4384-b1ca-03552dbf8d0f"
      },
      "outputs": [
        {
          "output_type": "stream",
          "name": "stdout",
          "text": [
            "True\n",
            "False\n"
          ]
        }
      ],
      "source": [
        "print(101>99)\n",
        "print(101==99)"
      ]
    },
    {
      "cell_type": "code",
      "source": [
        "print(bool(\"hello\"))\n",
        "print(bool(\"19\"))\n",
        "print(bool(True))\n",
        "print(bool(False))\n",
        "print(bool(1))\n",
        "print(bool(0))\n",
        "print(bool(()))\n",
        "print(bool({}))\n",
        "print(bool(None))"
      ],
      "metadata": {
        "colab": {
          "base_uri": "https://localhost:8080/"
        },
        "id": "jE2lK3qycEXH",
        "outputId": "18216e19-590a-4491-aafa-b60b4df55aa7"
      },
      "execution_count": 12,
      "outputs": [
        {
          "output_type": "stream",
          "name": "stdout",
          "text": [
            "True\n",
            "True\n",
            "True\n",
            "False\n",
            "True\n",
            "False\n",
            "False\n",
            "False\n",
            "False\n"
          ]
        }
      ]
    },
    {
      "cell_type": "code",
      "source": [
        "def myFunction(): return True\n",
        "print(myFunction())"
      ],
      "metadata": {
        "colab": {
          "base_uri": "https://localhost:8080/"
        },
        "id": "E-S2nKBveaHW",
        "outputId": "5c5f321f-d752-4188-d285-c9b395b90187"
      },
      "execution_count": 13,
      "outputs": [
        {
          "output_type": "stream",
          "name": "stdout",
          "text": [
            "True\n"
          ]
        }
      ]
    },
    {
      "cell_type": "code",
      "source": [
        "def myFunction(): return True\n",
        "if myFunction():\n",
        "  print(\"True\")\n",
        "else:\n",
        "  print(\"False\")  \n"
      ],
      "metadata": {
        "colab": {
          "base_uri": "https://localhost:8080/"
        },
        "id": "DEroWQa9fZ7M",
        "outputId": "38fd936b-5e96-4197-e8a9-98b0961144af"
      },
      "execution_count": 15,
      "outputs": [
        {
          "output_type": "stream",
          "name": "stdout",
          "text": [
            "True\n"
          ]
        }
      ]
    },
    {
      "cell_type": "code",
      "source": [
        "print(69>1)\n",
        "x=10\n",
        "y=9\n",
        "\n",
        "print(x==x)\n",
        "print(x!=x)"
      ],
      "metadata": {
        "colab": {
          "base_uri": "https://localhost:8080/"
        },
        "id": "O9-K0la8gmPt",
        "outputId": "5c2daaf9-3d5f-4a32-c3d1-3dc352644970"
      },
      "execution_count": 19,
      "outputs": [
        {
          "output_type": "stream",
          "name": "stdout",
          "text": [
            "True\n",
            "True\n",
            "False\n"
          ]
        }
      ]
    },
    {
      "cell_type": "markdown",
      "source": [
        "##Python Operators"
      ],
      "metadata": {
        "id": "QjQ5ybqtiOXo"
      }
    },
    {
      "cell_type": "code",
      "source": [
        "print(56*14)\n",
        "print(30+20)\n",
        "print(51/2)\n",
        "print(30-29)\n",
        "print(10%100)\n",
        "print(20//3)\n",
        "print(90**30)"
      ],
      "metadata": {
        "colab": {
          "base_uri": "https://localhost:8080/"
        },
        "id": "uwF__xAeiTS9",
        "outputId": "67295c0a-3deb-41df-bc40-44f3dbd252bd"
      },
      "execution_count": 26,
      "outputs": [
        {
          "output_type": "stream",
          "name": "stdout",
          "text": [
            "784\n",
            "50\n",
            "25.5\n",
            "1\n",
            "10\n",
            "6\n",
            "42391158275216203514294433201000000000000000000000000000000\n"
          ]
        }
      ]
    },
    {
      "cell_type": "code",
      "source": [
        "##Bitwise Operstors"
      ],
      "metadata": {
        "id": "49gEcXcdj9Xl"
      },
      "execution_count": null,
      "outputs": []
    },
    {
      "cell_type": "code",
      "source": [
        "a= 39\n",
        "b= 49\n",
        "\n",
        "print(a|b)\n",
        "print(a^b)\n",
        "print(~a)\n",
        "print(a<<2)\n",
        "print(a>>2)"
      ],
      "metadata": {
        "colab": {
          "base_uri": "https://localhost:8080/"
        },
        "id": "wG8pgXWEkdle",
        "outputId": "272a23a5-fe49-456d-d8c9-a739531fd68a"
      },
      "execution_count": 32,
      "outputs": [
        {
          "output_type": "stream",
          "name": "stdout",
          "text": [
            "55\n",
            "22\n",
            "-40\n",
            "156\n",
            "9\n"
          ]
        }
      ]
    },
    {
      "cell_type": "markdown",
      "source": [
        "##Assignment Operator"
      ],
      "metadata": {
        "id": "L5Y7V9AIqB8m"
      }
    },
    {
      "cell_type": "code",
      "source": [
        "m=50\n",
        "m+= 5 #same as m= m + 5\n",
        "print(m)"
      ],
      "metadata": {
        "colab": {
          "base_uri": "https://localhost:8080/"
        },
        "id": "9rWwymuXqFw6",
        "outputId": "e8d2de38-8b69-46b7-dd2e-51b8fe9282fd"
      },
      "execution_count": 43,
      "outputs": [
        {
          "output_type": "stream",
          "name": "stdout",
          "text": [
            "55\n"
          ]
        }
      ]
    },
    {
      "cell_type": "markdown",
      "source": [
        "##Logical Operator"
      ],
      "metadata": {
        "id": "SdtiGm4btNIL"
      }
    },
    {
      "cell_type": "code",
      "source": [
        "g=5\n",
        "j=9\n",
        "\n",
        "print(g>j and j==j)\n",
        "print(g<j or j==g)"
      ],
      "metadata": {
        "colab": {
          "base_uri": "https://localhost:8080/"
        },
        "id": "88ZH5CwYtdtm",
        "outputId": "67b46db6-6f43-4705-c622-4d4518411bdd"
      },
      "execution_count": 49,
      "outputs": [
        {
          "output_type": "stream",
          "name": "stdout",
          "text": [
            "False\n",
            "True\n"
          ]
        }
      ]
    },
    {
      "cell_type": "markdown",
      "source": [
        "##Identity Operator"
      ],
      "metadata": {
        "id": "s716zsfcvfqa"
      }
    },
    {
      "cell_type": "code",
      "source": [
        "print( g is j)\n",
        "print( g is not j)"
      ],
      "metadata": {
        "colab": {
          "base_uri": "https://localhost:8080/"
        },
        "id": "KI8KQQsHvjbJ",
        "outputId": "f4af9268-9e51-4ab0-e2df-ae7479e18a59"
      },
      "execution_count": 51,
      "outputs": [
        {
          "output_type": "stream",
          "name": "stdout",
          "text": [
            "False\n",
            "True\n"
          ]
        }
      ]
    }
  ]
}