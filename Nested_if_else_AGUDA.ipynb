{
  "nbformat": 4,
  "nbformat_minor": 0,
  "metadata": {
    "colab": {
      "provenance": [],
      "authorship_tag": "ABX9TyMglLh2n2JykYE2ucJ7Opwc",
      "include_colab_link": true
    },
    "kernelspec": {
      "name": "python3",
      "display_name": "Python 3"
    },
    "language_info": {
      "name": "python"
    }
  },
  "cells": [
    {
      "cell_type": "markdown",
      "metadata": {
        "id": "view-in-github",
        "colab_type": "text"
      },
      "source": [
        "<a href=\"https://colab.research.google.com/github/GeraldjonesAguda/CPE-21A-PLD-1-1-blk1/blob/main/Nested_if_else_AGUDA.ipynb\" target=\"_parent\"><img src=\"https://colab.research.google.com/assets/colab-badge.svg\" alt=\"Open In Colab\"/></a>"
      ]
    },
    {
      "cell_type": "markdown",
      "source": [
        "## Example 1 if Statement"
      ],
      "metadata": {
        "id": "3Q5gKZ1v19Uk"
      }
    },
    {
      "cell_type": "code",
      "source": [
        "age=int(input(\"Type your age: \"))\n",
        "if age>=18:\n",
        "  print(\"You are qualified to vote!\")\n",
        "if age<18:\n",
        "  print(\"You are not qualified to vote!\")\n"
      ],
      "metadata": {
        "colab": {
          "base_uri": "https://localhost:8080/"
        },
        "id": "KoiuQJyH3z-2",
        "outputId": "d795fdf3-ed77-48eb-f2f0-c760308c55a9"
      },
      "execution_count": 19,
      "outputs": [
        {
          "output_type": "stream",
          "name": "stdout",
          "text": [
            "Type your age: 71\n",
            "You are qualified to vote!\n"
          ]
        }
      ]
    },
    {
      "cell_type": "markdown",
      "source": [
        "## Example 1 if Elif Else"
      ],
      "metadata": {
        "id": "GxCwS9W05N-X"
      }
    },
    {
      "cell_type": "code",
      "source": [
        "age=int(input(\"Type your age: \"))\n",
        "if age>18:\n",
        "  print(\"You are qualified to vote!\")\n",
        "elif age<18:\n",
        "  print(\"You are not qualified to vote!\")\n",
        "else:\n",
        "  print(\"You are qualified to vote\")\n"
      ],
      "metadata": {
        "colab": {
          "base_uri": "https://localhost:8080/"
        },
        "id": "jF69OI0n50kf",
        "outputId": "079402d8-4907-4f9b-9863-543ca72967cf"
      },
      "execution_count": 21,
      "outputs": [
        {
          "output_type": "stream",
          "name": "stdout",
          "text": [
            "Type your age: 17\n",
            "You are not qualified to vote!\n"
          ]
        }
      ]
    },
    {
      "cell_type": "markdown",
      "source": [
        "## Example 1 Nested if"
      ],
      "metadata": {
        "id": "JZSXOOBR7bgF"
      }
    },
    {
      "cell_type": "code",
      "source": [
        "age=int(input(\"Type your age: \"))\n",
        "if age>=18:\n",
        "   print(\"You are qualified to vote!\")\n",
        "   if age>25:\n",
        "     print(\"You are above the qualified, also qualified to vote!\")\n",
        "if age<18:\n",
        "   print(\"You are not qualified to vote!\")\n",
        "   if age<15:\n",
        "       print(\"You're age is too young, so are not qualified to vote!\")\n",
        "else:\n",
        "  print(\"You are 18 and above, so you are qualified to vote\")"
      ],
      "metadata": {
        "colab": {
          "base_uri": "https://localhost:8080/"
        },
        "id": "7RIYFU487j1R",
        "outputId": "27b57f27-835b-409f-e9a6-dd1cacc07ba0"
      },
      "execution_count": 34,
      "outputs": [
        {
          "output_type": "stream",
          "name": "stdout",
          "text": [
            "Type your age: 12\n",
            "You are not qualified to vote!\n",
            "You're age is too young, so are not qualified to vote!\n"
          ]
        }
      ]
    },
    {
      "cell_type": "markdown",
      "source": [
        "##Example 2 if statement"
      ],
      "metadata": {
        "id": "MOw2hGCKABln"
      }
    },
    {
      "cell_type": "code",
      "source": [
        "number=float(input(\"type a number\"))\n",
        "if number>=0:\n",
        "  print(\"number is positive\")\n",
        "if number<0:\n",
        "  print(\"number is negative\")"
      ],
      "metadata": {
        "colab": {
          "base_uri": "https://localhost:8080/"
        },
        "id": "5NGnmJFQARpQ",
        "outputId": "5d4570c4-aebd-4bc9-ecde-0724b9fcf14f"
      },
      "execution_count": 37,
      "outputs": [
        {
          "output_type": "stream",
          "name": "stdout",
          "text": [
            "type a number-1\n",
            "number is negative\n"
          ]
        }
      ]
    },
    {
      "cell_type": "markdown",
      "source": [
        "##Example 2 if elif else"
      ],
      "metadata": {
        "id": "M6Z6XdhhB4Pj"
      }
    },
    {
      "cell_type": "code",
      "source": [
        "number=float(input(\"type a number: \"))\n",
        "if number>=0:\n",
        "  print(\"number is positive\")\n",
        "elif number<0:\n",
        "  print(\"number is negative\")\n",
        "else:\n",
        "  print(\"number is positive\")"
      ],
      "metadata": {
        "colab": {
          "base_uri": "https://localhost:8080/"
        },
        "id": "BVeUbfueCJAz",
        "outputId": "d99b831b-2cac-421f-d141-4b25580bfd70"
      },
      "execution_count": 38,
      "outputs": [
        {
          "output_type": "stream",
          "name": "stdout",
          "text": [
            "type a number: 1\n",
            "number is positive\n"
          ]
        }
      ]
    },
    {
      "cell_type": "markdown",
      "source": [
        "##Example 2 nested if"
      ],
      "metadata": {
        "id": "QI82cbhxDDWN"
      }
    },
    {
      "cell_type": "code",
      "source": [
        "number=float(input(\"type a number: \"))\n",
        "if number>=0:\n",
        "  print(\"number is positive\")\n",
        "  if number>100:\n",
        "   print(\"the number is a big posive number\")\n",
        "if number<0:\n",
        "  print(\"the number is negative\")\n",
        "  if number<-100:\n",
        "    print(\"the number is a negative and small value number\")\n",
        "else:\n",
        "  print(\"the number is not a negative number\")\n",
        " "
      ],
      "metadata": {
        "colab": {
          "base_uri": "https://localhost:8080/"
        },
        "id": "9gWNmifVDJYJ",
        "outputId": "73224a36-2393-4486-a3f2-69289c799690"
      },
      "execution_count": 40,
      "outputs": [
        {
          "output_type": "stream",
          "name": "stdout",
          "text": [
            "type a number: -101\n",
            "the number is negative\n",
            "the number is a small negative number\n"
          ]
        }
      ]
    },
    {
      "cell_type": "markdown",
      "source": [
        "##Example 3 if statement"
      ],
      "metadata": {
        "id": "lqeJ7YHyE0NV"
      }
    },
    {
      "cell_type": "code",
      "source": [
        "grade=float(input(\"type your grade: \"))\n",
        "if grade>=75:\n",
        "  print(\"passed\")\n",
        "if grade==74:\n",
        "  print(\"remedial\")\n",
        "if grade<74 and 0:\n",
        "  print(\"failed\")\n",
        "if grade<0:\n",
        "  print(\"grade is not accepted\")  \n"
      ],
      "metadata": {
        "colab": {
          "base_uri": "https://localhost:8080/"
        },
        "id": "Q7OGFyN5E_Uy",
        "outputId": "33cb587d-1988-4307-81e1-9307c55c6900"
      },
      "execution_count": 72,
      "outputs": [
        {
          "output_type": "stream",
          "name": "stdout",
          "text": [
            "type your grade: 100\n",
            "passed\n"
          ]
        }
      ]
    },
    {
      "cell_type": "markdown",
      "source": [
        "##Example 3 if else elif"
      ],
      "metadata": {
        "id": "RsS1MJDxHVND"
      }
    },
    {
      "cell_type": "code",
      "source": [
        "grade=float(input(\"type your grade: \"))\n",
        "if grade>=75:\n",
        "  print(\"passed\")\n",
        "elif grade==74:\n",
        "  print(\"remedial\")\n",
        "elif grade<0:\n",
        "  print(\"grade is not accepted\")\n",
        "else:\n",
        "  print(\"failed\")"
      ],
      "metadata": {
        "colab": {
          "base_uri": "https://localhost:8080/"
        },
        "id": "tr9od5gDHbgi",
        "outputId": "6dac1461-0580-4042-f225-5987b3664607"
      },
      "execution_count": 53,
      "outputs": [
        {
          "output_type": "stream",
          "name": "stdout",
          "text": [
            "type your grade: 73\n",
            "failed\n"
          ]
        }
      ]
    },
    {
      "cell_type": "markdown",
      "source": [
        "##Example 3 nested if"
      ],
      "metadata": {
        "id": "hAd3_iwnLUF2"
      }
    },
    {
      "cell_type": "code",
      "source": [
        "grade=float(input(\"type your grade: \"))\n",
        "if grade>=0 and 100:\n",
        "  if grade>75:\n",
        "    print(\"passed\")\n",
        "  if grade==74:\n",
        "    print(\"remedial\") \n",
        "  if grade<74:\n",
        "    print(\"failed\")\n",
        "else:\n",
        "  print(\"grade is not accepted\")"
      ],
      "metadata": {
        "colab": {
          "base_uri": "https://localhost:8080/"
        },
        "id": "hrIwuCrkLev-",
        "outputId": "3e95de23-408b-4190-db8a-80c9e1d6ce08"
      },
      "execution_count": 71,
      "outputs": [
        {
          "output_type": "stream",
          "name": "stdout",
          "text": [
            "type your grade: -10\n",
            "grade is not accepted\n"
          ]
        }
      ]
    }
  ]
}